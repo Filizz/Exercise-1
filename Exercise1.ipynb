{
 "cells": [
  {
   "cell_type": "markdown",
   "id": "1d289387",
   "metadata": {},
   "source": [
    "# 1 Basics"
   ]
  },
  {
   "cell_type": "code",
   "execution_count": 1,
   "id": "bb7b9e8d",
   "metadata": {},
   "outputs": [
    {
     "data": {
      "text/plain": [
       "4"
      ]
     },
     "execution_count": 1,
     "metadata": {},
     "output_type": "execute_result"
    }
   ],
   "source": [
    "3 + 1"
   ]
  },
  {
   "cell_type": "code",
   "execution_count": 2,
   "id": "cb4d6785",
   "metadata": {},
   "outputs": [
    {
     "data": {
      "text/plain": [
       "9"
      ]
     },
     "execution_count": 2,
     "metadata": {},
     "output_type": "execute_result"
    }
   ],
   "source": [
    " 3 * 3"
   ]
  },
  {
   "cell_type": "code",
   "execution_count": 3,
   "id": "7ea057f6",
   "metadata": {
    "scrolled": true
   },
   "outputs": [
    {
     "data": {
      "text/plain": [
       "8"
      ]
     },
     "execution_count": 3,
     "metadata": {},
     "output_type": "execute_result"
    }
   ],
   "source": [
    "2 ** 3"
   ]
  },
  {
   "cell_type": "code",
   "execution_count": 39,
   "id": "0bd5990e",
   "metadata": {},
   "outputs": [
    {
     "data": {
      "text/plain": [
       "'Hello, world!'"
      ]
     },
     "execution_count": 39,
     "metadata": {},
     "output_type": "execute_result"
    }
   ],
   "source": [
    "\"Hello, world!\""
   ]
  },
  {
   "cell_type": "code",
   "execution_count": 5,
   "id": "21d0ac94",
   "metadata": {},
   "outputs": [
    {
     "data": {
      "text/plain": [
       "'python'"
      ]
     },
     "execution_count": 5,
     "metadata": {},
     "output_type": "execute_result"
    }
   ],
   "source": [
    "'py' + 'thon'\n",
    "\n",
    "#to combine two separate expressions"
   ]
  },
  {
   "cell_type": "code",
   "execution_count": 6,
   "id": "5b83c185",
   "metadata": {},
   "outputs": [
    {
     "data": {
      "text/plain": [
       "'pypypython'"
      ]
     },
     "execution_count": 6,
     "metadata": {},
     "output_type": "execute_result"
    }
   ],
   "source": [
    "'py' * 3 + 'thon'\n",
    "#It means repeating the first statement 3 times and is combined with the second statement."
   ]
  },
  {
   "cell_type": "code",
   "execution_count": 41,
   "id": "2312ab31",
   "metadata": {},
   "outputs": [
    {
     "ename": "TypeError",
     "evalue": "unsupported operand type(s) for -: 'str' and 'str'",
     "output_type": "error",
     "traceback": [
      "\u001b[1;31m---------------------------------------------------------------------------\u001b[0m",
      "\u001b[1;31mTypeError\u001b[0m                                 Traceback (most recent call last)",
      "Input \u001b[1;32mIn [41]\u001b[0m, in \u001b[0;36m<cell line: 1>\u001b[1;34m()\u001b[0m\n\u001b[1;32m----> 1\u001b[0m \u001b[38;5;124;43m'\u001b[39;49m\u001b[38;5;124;43mpy\u001b[39;49m\u001b[38;5;124;43m'\u001b[39;49m\u001b[43m \u001b[49m\u001b[38;5;241;43m-\u001b[39;49m\u001b[43m \u001b[49m\u001b[38;5;124;43m'\u001b[39;49m\u001b[38;5;124;43mpy\u001b[39;49m\u001b[38;5;124;43m'\u001b[39;49m\n",
      "\u001b[1;31mTypeError\u001b[0m: unsupported operand type(s) for -: 'str' and 'str'"
     ]
    }
   ],
   "source": [
    "'py' - 'py'\n",
    "\n",
    "#Unsupported operand types for 'str' and 'str'."
   ]
  },
  {
   "cell_type": "code",
   "execution_count": 42,
   "id": "a4fff13e",
   "metadata": {},
   "outputs": [
    {
     "ename": "TypeError",
     "evalue": "can only concatenate str (not \"int\") to str",
     "output_type": "error",
     "traceback": [
      "\u001b[1;31m---------------------------------------------------------------------------\u001b[0m",
      "\u001b[1;31mTypeError\u001b[0m                                 Traceback (most recent call last)",
      "Input \u001b[1;32mIn [42]\u001b[0m, in \u001b[0;36m<cell line: 1>\u001b[1;34m()\u001b[0m\n\u001b[1;32m----> 1\u001b[0m \u001b[38;5;124;43m'\u001b[39;49m\u001b[38;5;124;43m3\u001b[39;49m\u001b[38;5;124;43m'\u001b[39;49m\u001b[43m \u001b[49m\u001b[38;5;241;43m+\u001b[39;49m\u001b[43m \u001b[49m\u001b[38;5;241;43m3\u001b[39;49m\n",
      "\u001b[1;31mTypeError\u001b[0m: can only concatenate str (not \"int\") to str"
     ]
    }
   ],
   "source": [
    "'3' + 3\n",
    "\n",
    "#inside expression must be of type 'str', not int"
   ]
  },
  {
   "cell_type": "code",
   "execution_count": 48,
   "id": "e20891a9",
   "metadata": {},
   "outputs": [
    {
     "data": {
      "text/plain": [
       "'333'"
      ]
     },
     "execution_count": 48,
     "metadata": {},
     "output_type": "execute_result"
    }
   ],
   "source": [
    "3 * '3'\n",
    "\n",
    "#repeating '3' 3 times "
   ]
  },
  {
   "cell_type": "code",
   "execution_count": 11,
   "id": "610fb9fb",
   "metadata": {},
   "outputs": [
    {
     "ename": "NameError",
     "evalue": "name 'a' is not defined",
     "output_type": "error",
     "traceback": [
      "\u001b[1;31m---------------------------------------------------------------------------\u001b[0m",
      "\u001b[1;31mNameError\u001b[0m                                 Traceback (most recent call last)",
      "Input \u001b[1;32mIn [11]\u001b[0m, in \u001b[0;36m<cell line: 1>\u001b[1;34m()\u001b[0m\n\u001b[1;32m----> 1\u001b[0m \u001b[43ma\u001b[49m\n",
      "\u001b[1;31mNameError\u001b[0m: name 'a' is not defined"
     ]
    }
   ],
   "source": [
    "a\n",
    "//name 'a' is not defined"
   ]
  },
  {
   "cell_type": "code",
   "execution_count": 13,
   "id": "eea242f4",
   "metadata": {},
   "outputs": [],
   "source": [
    "a = 3\n",
    "\n",
    "#A value is assigned to a"
   ]
  },
  {
   "cell_type": "code",
   "execution_count": 14,
   "id": "80e2875c",
   "metadata": {},
   "outputs": [
    {
     "data": {
      "text/plain": [
       "3"
      ]
     },
     "execution_count": 14,
     "metadata": {},
     "output_type": "execute_result"
    }
   ],
   "source": [
    "a"
   ]
  },
  {
   "cell_type": "code",
   "execution_count": 15,
   "id": "0b6c9496",
   "metadata": {},
   "outputs": [
    {
     "data": {
      "text/plain": [
       "True"
      ]
     },
     "execution_count": 15,
     "metadata": {},
     "output_type": "execute_result"
    }
   ],
   "source": [
    "1 == 1\n",
    "\n",
    "#Returns true if two expressions are equal"
   ]
  },
  {
   "cell_type": "code",
   "execution_count": 16,
   "id": "8fcb6d90",
   "metadata": {},
   "outputs": [
    {
     "data": {
      "text/plain": [
       "True"
      ]
     },
     "execution_count": 16,
     "metadata": {},
     "output_type": "execute_result"
    }
   ],
   "source": [
    "1 == True\n",
    "\n",
    "#Default 1 is true"
   ]
  },
  {
   "cell_type": "code",
   "execution_count": 17,
   "id": "45426b37",
   "metadata": {},
   "outputs": [
    {
     "data": {
      "text/plain": [
       "False"
      ]
     },
     "execution_count": 17,
     "metadata": {},
     "output_type": "execute_result"
    }
   ],
   "source": [
    "0 == True\n",
    "\n",
    "#True == 1 != 0"
   ]
  },
  {
   "cell_type": "code",
   "execution_count": 18,
   "id": "dcee88a8",
   "metadata": {},
   "outputs": [
    {
     "data": {
      "text/plain": [
       "True"
      ]
     },
     "execution_count": 18,
     "metadata": {},
     "output_type": "execute_result"
    }
   ],
   "source": [
    "0 == False\n",
    "\n",
    "#Default 0 is false"
   ]
  },
  {
   "cell_type": "code",
   "execution_count": 19,
   "id": "2a020644",
   "metadata": {},
   "outputs": [
    {
     "data": {
      "text/plain": [
       "True"
      ]
     },
     "execution_count": 19,
     "metadata": {},
     "output_type": "execute_result"
    }
   ],
   "source": [
    " 3 == 1 * 3\n",
    "\n",
    "#(3==3) returns true because of operation priority"
   ]
  },
  {
   "cell_type": "code",
   "execution_count": 20,
   "id": "3495956d",
   "metadata": {},
   "outputs": [
    {
     "data": {
      "text/plain": [
       "0"
      ]
     },
     "execution_count": 20,
     "metadata": {},
     "output_type": "execute_result"
    }
   ],
   "source": [
    "(3 == 1) * 3\n",
    "\n",
    "#The result is 0 because (3==1) is false"
   ]
  },
  {
   "cell_type": "code",
   "execution_count": 21,
   "id": "c96c4112",
   "metadata": {},
   "outputs": [
    {
     "data": {
      "text/plain": [
       "False"
      ]
     },
     "execution_count": 21,
     "metadata": {},
     "output_type": "execute_result"
    }
   ],
   "source": [
    "(3 == 3) * 4 + 3 == 1\n",
    "\n",
    "#The result of the expression on the right is 7, so 7 is not equal to 1, so it returns false."
   ]
  },
  {
   "cell_type": "code",
   "execution_count": 22,
   "id": "26f2a8f6",
   "metadata": {},
   "outputs": [
    {
     "data": {
      "text/plain": [
       "False"
      ]
     },
     "execution_count": 22,
     "metadata": {},
     "output_type": "execute_result"
    }
   ],
   "source": [
    "3**5 >= 4**4\n",
    "\n",
    "#the result of the right side expression is 243, the left side expression is 256, so 243 is not greater than 256 and returned false\n"
   ]
  },
  {
   "cell_type": "code",
   "execution_count": 23,
   "id": "d05576b6",
   "metadata": {},
   "outputs": [
    {
     "data": {
      "text/plain": [
       "1.6666666666666667"
      ]
     },
     "execution_count": 23,
     "metadata": {},
     "output_type": "execute_result"
    }
   ],
   "source": [
    "5 / 3\n",
    "\n",
    "#Because the operation is the division operation and the result in the division operation is always float data type."
   ]
  },
  {
   "cell_type": "code",
   "execution_count": 24,
   "id": "d09b59e3",
   "metadata": {},
   "outputs": [
    {
     "data": {
      "text/plain": [
       "2"
      ]
     },
     "execution_count": 24,
     "metadata": {},
     "output_type": "execute_result"
    }
   ],
   "source": [
    "5 % 3\n",
    "\n",
    "#The remainder of dividing 5 by 3."
   ]
  },
  {
   "cell_type": "code",
   "execution_count": 25,
   "id": "327952b6",
   "metadata": {},
   "outputs": [
    {
     "data": {
      "text/plain": [
       "1.6666666666666667"
      ]
     },
     "execution_count": 25,
     "metadata": {},
     "output_type": "execute_result"
    }
   ],
   "source": [
    "5.0 / 3\n",
    "\n",
    "#The operation is the division operation and the result in the division operation is always float data type."
   ]
  },
  {
   "cell_type": "code",
   "execution_count": 26,
   "id": "e3b9a513",
   "metadata": {},
   "outputs": [
    {
     "data": {
      "text/plain": [
       "1.6666666666666667"
      ]
     },
     "execution_count": 26,
     "metadata": {},
     "output_type": "execute_result"
    }
   ],
   "source": [
    "5 / 3.0\n",
    "\n",
    "#The operation is the division operation and the result in the division operation is always float data type."
   ]
  },
  {
   "cell_type": "code",
   "execution_count": 27,
   "id": "c671581a",
   "metadata": {},
   "outputs": [
    {
     "data": {
      "text/plain": [
       "2.2"
      ]
     },
     "execution_count": 27,
     "metadata": {},
     "output_type": "execute_result"
    }
   ],
   "source": [
    "5.2 % 3\n",
    "\n",
    "#The remainder of dividing a double or float number by any number returns a double or float number."
   ]
  },
  {
   "cell_type": "code",
   "execution_count": 28,
   "id": "e92fe8c3",
   "metadata": {},
   "outputs": [
    {
     "data": {
      "text/plain": [
       "1775896810483121914350934797871501063452843428843794422323202530887281536545210629921129898113201749875234297340507804201761453596034016264189501186924066128377025843892373608427790859511135990682732202975330824797118808624727351608183194154557208730494440110429635650057431833674286462463508755276302896154336475782768613964332764108132533925570342220340698973761380541294970139762186212823359128790706292900765512137078550033912252338262922477518858757114840012576514724742388124595061301502222934806074032688691170880996881967426442947828261057852871032366879179996122216385870273020506079240103910728766397733398071775041745854959302025036249707279600400001"
      ]
     },
     "execution_count": 28,
     "metadata": {},
     "output_type": "execute_result"
    }
   ],
   "source": [
    "2001 ** 200\n",
    "\n",
    "#2001 to the power of 200 gives the following result.\n",
    "#In case of integer, size is converted to long value when variable gets bigger."
   ]
  },
  {
   "cell_type": "code",
   "execution_count": 29,
   "id": "279830fe",
   "metadata": {},
   "outputs": [
    {
     "ename": "OverflowError",
     "evalue": "(34, 'Result too large')",
     "output_type": "error",
     "traceback": [
      "\u001b[1;31m---------------------------------------------------------------------------\u001b[0m",
      "\u001b[1;31mOverflowError\u001b[0m                             Traceback (most recent call last)",
      "Input \u001b[1;32mIn [29]\u001b[0m, in \u001b[0;36m<cell line: 1>\u001b[1;34m()\u001b[0m\n\u001b[1;32m----> 1\u001b[0m \u001b[38;5;241;43m2000.3\u001b[39;49m\u001b[43m \u001b[49m\u001b[38;5;241;43m*\u001b[39;49m\u001b[38;5;241;43m*\u001b[39;49m\u001b[43m \u001b[49m\u001b[38;5;241;43m200\u001b[39;49m\n",
      "\u001b[1;31mOverflowError\u001b[0m: (34, 'Result too large')"
     ]
    }
   ],
   "source": [
    "2000.3 ** 200\n",
    "\n",
    "#This error occurred for floating point numbers when the size exceeds the variable type limit. If the variable size also exceeds the long limit, Python will throw MemoryError. Because the floating variable size is constantly increasing after reaching 34, because it will throw an OverflowError for precision."
   ]
  },
  {
   "cell_type": "code",
   "execution_count": 30,
   "id": "1f53fc7d",
   "metadata": {},
   "outputs": [
    {
     "data": {
      "text/plain": [
       "1.0"
      ]
     },
     "execution_count": 30,
     "metadata": {},
     "output_type": "execute_result"
    }
   ],
   "source": [
    "1.0 + 1.0 - 1.0\n",
    "\n",
    "#Because of the smaller 1.0, it doesn't ignore the extra 1.0, so the result is equal to 1.0"
   ]
  },
  {
   "cell_type": "code",
   "execution_count": 31,
   "id": "c1a843a6",
   "metadata": {},
   "outputs": [
    {
     "data": {
      "text/plain": [
       "0.0"
      ]
     },
     "execution_count": 31,
     "metadata": {},
     "output_type": "execute_result"
    }
   ],
   "source": [
    "1.0 + 1.0e20 - 1.0e20\n",
    "\n",
    "#1.0 is ignored because e20 is relatively large i.e. 1.0E20 + 1.0 == 1.0E20"
   ]
  },
  {
   "cell_type": "code",
   "execution_count": 32,
   "id": "3e027ee4",
   "metadata": {},
   "outputs": [
    {
     "data": {
      "text/plain": [
       "123.0"
      ]
     },
     "execution_count": 32,
     "metadata": {},
     "output_type": "execute_result"
    }
   ],
   "source": [
    "float(123)\n",
    "\n",
    "#Converts the integer 123 to floating point."
   ]
  },
  {
   "cell_type": "code",
   "execution_count": 47,
   "id": "9368b29e",
   "metadata": {},
   "outputs": [
    {
     "data": {
      "text/plain": [
       "123.0"
      ]
     },
     "execution_count": 47,
     "metadata": {},
     "output_type": "execute_result"
    }
   ],
   "source": [
    "float('123')\n",
    "\n",
    "#Converts 123 string to floating point."
   ]
  },
  {
   "cell_type": "code",
   "execution_count": 46,
   "id": "4e856e99",
   "metadata": {},
   "outputs": [
    {
     "data": {
      "text/plain": [
       "123.23"
      ]
     },
     "execution_count": 46,
     "metadata": {},
     "output_type": "execute_result"
    }
   ],
   "source": [
    " float('123.23')\n",
    "\n",
    "#Converts 123.23 string to floating point."
   ]
  },
  {
   "cell_type": "code",
   "execution_count": 35,
   "id": "17c926e9",
   "metadata": {},
   "outputs": [
    {
     "data": {
      "text/plain": [
       "123"
      ]
     },
     "execution_count": 35,
     "metadata": {},
     "output_type": "execute_result"
    }
   ],
   "source": [
    "int(123.23)\n",
    "\n",
    "#Convert floating point numbers to integers."
   ]
  },
  {
   "cell_type": "code",
   "execution_count": 49,
   "id": "50a41f15",
   "metadata": {},
   "outputs": [
    {
     "ename": "ValueError",
     "evalue": "invalid literal for int() with base 10: '123.23'",
     "output_type": "error",
     "traceback": [
      "\u001b[1;31m---------------------------------------------------------------------------\u001b[0m",
      "\u001b[1;31mValueError\u001b[0m                                Traceback (most recent call last)",
      "Input \u001b[1;32mIn [49]\u001b[0m, in \u001b[0;36m<cell line: 1>\u001b[1;34m()\u001b[0m\n\u001b[1;32m----> 1\u001b[0m \u001b[38;5;28;43mint\u001b[39;49m\u001b[43m(\u001b[49m\u001b[38;5;124;43m'\u001b[39;49m\u001b[38;5;124;43m123.23\u001b[39;49m\u001b[38;5;124;43m'\u001b[39;49m\u001b[43m)\u001b[49m\n",
      "\u001b[1;31mValueError\u001b[0m: invalid literal for int() with base 10: '123.23'"
     ]
    }
   ],
   "source": [
    "int('123.23')\n",
    "\n",
    "#Converts the string 123.23 to integers."
   ]
  },
  {
   "cell_type": "code",
   "execution_count": 44,
   "id": "3db16841",
   "metadata": {},
   "outputs": [
    {
     "data": {
      "text/plain": [
       "123"
      ]
     },
     "execution_count": 44,
     "metadata": {},
     "output_type": "execute_result"
    }
   ],
   "source": [
    "int(float('123.23'))\n",
    "\n",
    "#String that converts '123.23' to floating point number first, then to integer 123"
   ]
  },
  {
   "cell_type": "code",
   "execution_count": 38,
   "id": "485be7f4",
   "metadata": {},
   "outputs": [
    {
     "data": {
      "text/plain": [
       "'12'"
      ]
     },
     "execution_count": 38,
     "metadata": {},
     "output_type": "execute_result"
    }
   ],
   "source": [
    "str(12)\n",
    "\n",
    "#Converts 12 integers to string"
   ]
  },
  {
   "cell_type": "code",
   "execution_count": 39,
   "id": "083e5ff2",
   "metadata": {},
   "outputs": [
    {
     "data": {
      "text/plain": [
       "'12.2'"
      ]
     },
     "execution_count": 39,
     "metadata": {},
     "output_type": "execute_result"
    }
   ],
   "source": [
    "str(12.2)\n",
    "\n",
    "#converted from floating point number to strings."
   ]
  },
  {
   "cell_type": "code",
   "execution_count": 45,
   "id": "b4bf679a",
   "metadata": {},
   "outputs": [
    {
     "data": {
      "text/plain": [
       "True"
      ]
     },
     "execution_count": 45,
     "metadata": {},
     "output_type": "execute_result"
    }
   ],
   "source": [
    " bool('a')\n",
    "\n",
    "#string converted to boolean number."
   ]
  },
  {
   "cell_type": "code",
   "execution_count": 41,
   "id": "c2703fb7",
   "metadata": {},
   "outputs": [
    {
     "data": {
      "text/plain": [
       "False"
      ]
     },
     "execution_count": 41,
     "metadata": {},
     "output_type": "execute_result"
    }
   ],
   "source": [
    "bool(0)\n",
    "\n",
    "#A boolean value of 0 returns false."
   ]
  },
  {
   "cell_type": "code",
   "execution_count": 42,
   "id": "fcd575cd",
   "metadata": {},
   "outputs": [
    {
     "data": {
      "text/plain": [
       "True"
      ]
     },
     "execution_count": 42,
     "metadata": {},
     "output_type": "execute_result"
    }
   ],
   "source": [
    "bool(0.1)\n",
    "\n",
    "#Convert floating point numbers to Booleen and returns true"
   ]
  },
  {
   "cell_type": "markdown",
   "id": "08239862",
   "metadata": {},
   "source": [
    "# 2 Control Flow"
   ]
  },
  {
   "cell_type": "code",
   "execution_count": 50,
   "id": "500a38e9",
   "metadata": {},
   "outputs": [
    {
     "data": {
      "text/plain": [
       "range(0, 5)"
      ]
     },
     "execution_count": 50,
     "metadata": {},
     "output_type": "execute_result"
    }
   ],
   "source": [
    "range(5)"
   ]
  },
  {
   "cell_type": "code",
   "execution_count": 53,
   "id": "3505764e",
   "metadata": {},
   "outputs": [
    {
     "name": "stdout",
     "output_type": "stream",
     "text": [
      "0\n",
      "1\n",
      "2\n",
      "3\n",
      "4\n"
     ]
    }
   ],
   "source": [
    "for i in range(5):\n",
    "    print(i)"
   ]
  },
  {
   "cell_type": "code",
   "execution_count": 54,
   "id": "84c15059",
   "metadata": {},
   "outputs": [
    {
     "data": {
      "text/plain": [
       "range"
      ]
     },
     "execution_count": 54,
     "metadata": {},
     "output_type": "execute_result"
    }
   ],
   "source": [
    "type(range(5))"
   ]
  },
  {
   "cell_type": "code",
   "execution_count": 73,
   "id": "932d7a5d",
   "metadata": {},
   "outputs": [
    {
     "name": "stdout",
     "output_type": "stream",
     "text": [
      "0 1 2 3 4 5 6 7 8 9 10 11 12 13 14 15 16 17 18 19 20 21 22 23 24 25 26 27 28 29 30 31 32 33 34 35 36 37 38 39 40 41 42 43 44 45 46 47 48 49 50 51 52 53 54 55 56 57 58 59 60 61 62 63 64 65 66 67 68 69 70 71 72 73 74 75 76 77 78 79 80 81 82 83 84 85 86 87 88 89 90 91 92 93 94 95 96 97 98 99 100 "
     ]
    }
   ],
   "source": [
    "for i in range(101):\n",
    "    print(i, end=' ')"
   ]
  },
  {
   "cell_type": "code",
   "execution_count": 74,
   "id": "c9cfc347",
   "metadata": {},
   "outputs": [
    {
     "name": "stdout",
     "output_type": "stream",
     "text": [
      "0 7 14 21 28 35 42 49 56 63 70 77 84 91 98 "
     ]
    }
   ],
   "source": [
    "for i in range(101):\n",
    "    if(i%7==0):\n",
    "        print(i, end=' ')"
   ]
  },
  {
   "cell_type": "code",
   "execution_count": 75,
   "id": "77b53e4e",
   "metadata": {},
   "outputs": [
    {
     "name": "stdout",
     "output_type": "stream",
     "text": [
      "5 10 20 25 35 40 50 55 65 70 80 85 95 100 "
     ]
    }
   ],
   "source": [
    "for i in range(101):\n",
    "     if(i%5==0 and i%3!=0):\n",
    "            print(i, end=' ')"
   ]
  },
  {
   "cell_type": "code",
   "execution_count": 60,
   "id": "56faba6e",
   "metadata": {},
   "outputs": [
    {
     "name": "stdout",
     "output_type": "stream",
     "text": [
      "x = 2:\n",
      "x = 3:\n",
      "\n",
      "x = 4:\n",
      "2\n",
      "\n",
      "x = 5:\n",
      "\n",
      "\n",
      "\n",
      "x = 6:\n",
      "2\n",
      "3\n",
      "\n",
      "\n",
      "x = 7:\n",
      "\n",
      "\n",
      "\n",
      "\n",
      "\n",
      "x = 8:\n",
      "2\n",
      "\n",
      "4\n",
      "\n",
      "\n",
      "\n",
      "x = 9:\n",
      "\n",
      "3\n",
      "\n",
      "\n",
      "\n",
      "\n",
      "\n",
      "x = 10:\n",
      "2\n",
      "\n",
      "\n",
      "5\n",
      "\n",
      "\n",
      "\n",
      "\n",
      "x = 11:\n",
      "\n",
      "\n",
      "\n",
      "\n",
      "\n",
      "\n",
      "\n",
      "\n",
      "\n",
      "x = 12:\n",
      "2\n",
      "3\n",
      "4\n",
      "\n",
      "6\n",
      "\n",
      "\n",
      "\n",
      "\n",
      "\n",
      "x = 13:\n",
      "\n",
      "\n",
      "\n",
      "\n",
      "\n",
      "\n",
      "\n",
      "\n",
      "\n",
      "\n",
      "\n",
      "x = 14:\n",
      "2\n",
      "\n",
      "\n",
      "\n",
      "\n",
      "7\n",
      "\n",
      "\n",
      "\n",
      "\n",
      "\n",
      "\n",
      "x = 15:\n",
      "\n",
      "3\n",
      "\n",
      "5\n",
      "\n",
      "\n",
      "\n",
      "\n",
      "\n",
      "\n",
      "\n",
      "\n",
      "\n",
      "x = 16:\n",
      "2\n",
      "\n",
      "4\n",
      "\n",
      "\n",
      "\n",
      "8\n",
      "\n",
      "\n",
      "\n",
      "\n",
      "\n",
      "\n",
      "\n",
      "x = 17:\n",
      "\n",
      "\n",
      "\n",
      "\n",
      "\n",
      "\n",
      "\n",
      "\n",
      "\n",
      "\n",
      "\n",
      "\n",
      "\n",
      "\n",
      "\n",
      "x = 18:\n",
      "2\n",
      "3\n",
      "\n",
      "\n",
      "6\n",
      "\n",
      "\n",
      "9\n",
      "\n",
      "\n",
      "\n",
      "\n",
      "\n",
      "\n",
      "\n",
      "\n",
      "x = 19:\n",
      "\n",
      "\n",
      "\n",
      "\n",
      "\n",
      "\n",
      "\n",
      "\n",
      "\n",
      "\n",
      "\n",
      "\n",
      "\n",
      "\n",
      "\n",
      "\n",
      "\n",
      "x = 20:\n",
      "2\n",
      "\n",
      "4\n",
      "5\n",
      "\n",
      "\n",
      "\n",
      "\n",
      "10\n",
      "\n",
      "\n",
      "\n",
      "\n",
      "\n",
      "\n",
      "\n",
      "\n",
      "\n"
     ]
    }
   ],
   "source": [
    "for x in range(2,21):\n",
    "    print('x = ' +str(x)+':')\n",
    "    for i in range(2,x):\n",
    "        if(x%i==0):\n",
    "            print(i, end='')\n",
    "        print()\n",
    "    "
   ]
  },
  {
   "cell_type": "code",
   "execution_count": 61,
   "id": "ebce78fd",
   "metadata": {
    "scrolled": true
   },
   "outputs": [
    {
     "name": "stdout",
     "output_type": "stream",
     "text": [
      "0 1 2 3 4 5 6 7 8 9 10 11 12 13 14 15 16 17 18 19 20 21 22 23 24 25 26 27 28 29 30 31 32 33 34 35 36 37 38 39 40 41 42 43 44 45 46 47 48 49 50 51 52 53 54 55 56 57 58 59 60 61 62 63 64 65 66 67 68 69 70 71 72 73 74 75 76 77 78 79 80 81 82 83 84 85 86 87 88 89 90 91 92 93 94 95 96 97 98 99 100 "
     ]
    }
   ],
   "source": [
    "i=0\n",
    "while(i<=100):\n",
    "    print(i, end=' ')\n",
    "    i=i+1"
   ]
  },
  {
   "cell_type": "code",
   "execution_count": 1,
   "id": "b16ae3c5",
   "metadata": {},
   "outputs": [
    {
     "name": "stdout",
     "output_type": "stream",
     "text": [
      "0 7 14 21 28 35 42 49 56 63 70 77 84 91 98 "
     ]
    }
   ],
   "source": [
    "i=0\n",
    "while(i<=100):\n",
    "    if(i%7==0):\n",
    "            print(i, end=' ')\n",
    "    i=i+1"
   ]
  },
  {
   "cell_type": "code",
   "execution_count": 45,
   "id": "b8c4aea9",
   "metadata": {
    "scrolled": true
   },
   "outputs": [
    {
     "name": "stdout",
     "output_type": "stream",
     "text": [
      "385 770 1155 1540 1925 2310 2695 3080 3465 3850 4235 4620 5005 5390 5775 6160 6545 6930 7315 7700 "
     ]
    }
   ],
   "source": [
    "num_found = 0\n",
    "x = 11\n",
    "while num_found<20:\n",
    "    if(x %5==0 and x%7 == 0 and x%11 == 0):\n",
    "        print(x,end = ' ')\n",
    "        num_found = num_found +1\n",
    "    x = x +1"
   ]
  },
  {
   "cell_type": "code",
   "execution_count": 61,
   "id": "65213f87",
   "metadata": {},
   "outputs": [
    {
     "name": "stdout",
     "output_type": "stream",
     "text": [
      "2520\n"
     ]
    }
   ],
   "source": [
    "numberfound = 0\n",
    "x = 10\n",
    "while (numberfound == 0):\n",
    "    if (x%1==0 and x%2==0 and x%3==0 and x%4==0 and x%5==0 and x%6==0 and x%7==0 and x%8==0 and x%9==0 and x%10==0):\n",
    "              print(x)\n",
    "              numberfound += 1\n",
    "    x += 1"
   ]
  },
  {
   "cell_type": "code",
   "execution_count": 13,
   "id": "f29bfbf5",
   "metadata": {},
   "outputs": [
    {
     "name": "stdout",
     "output_type": "stream",
     "text": [
      "103 310 155 466 233 700 350 175 526 263 790 395 1186 593 1780 890 445 1336 668 334 167 502 251 754 377 1132 566 283 850 425 1276 638 319 958 479 1438 719 2158 1079 3238 1619 4858 2429 7288 3644 1822 911 2734 1367 4102 2051 6154 3077 9232 4616 2308 1154 577 1732 866 433 1300 650 325 976 488 244 122 61 184 92 46 23 70 35 106 53 160 80 40 20 10 5 16 8 4 2 1\n"
     ]
    }
   ],
   "source": [
    "def printCollatz(n):\n",
    "       \n",
    "    while n != 1:\n",
    "        print(n, end = ' ')\n",
    " \n",
    "        if n & 1:\n",
    "            n = 3 * n + 1\n",
    " \n",
    "        else:\n",
    "            n = n // 2\n",
    " \n",
    "    print(n)\n",
    " \n",
    "printCollatz(103)\n",
    " "
   ]
  },
  {
   "cell_type": "markdown",
   "id": "37f86c75",
   "metadata": {},
   "source": [
    "# 3 Functions"
   ]
  },
  {
   "cell_type": "code",
   "execution_count": 21,
   "id": "64c8665c",
   "metadata": {},
   "outputs": [
    {
     "name": "stdout",
     "output_type": "stream",
     "text": [
      "Hello, world!\n"
     ]
    }
   ],
   "source": [
    "def hello_world():\n",
    "    print('Hello, world!') \n",
    "    \n",
    "hello_world()"
   ]
  },
  {
   "cell_type": "code",
   "execution_count": 22,
   "id": "25bbfa3c",
   "metadata": {},
   "outputs": [
    {
     "name": "stdout",
     "output_type": "stream",
     "text": [
      "Hello, Filiz!\n"
     ]
    }
   ],
   "source": [
    "def  hello_name(name):\n",
    "    print('Hello, '+name+'!')\n",
    "\n",
    "hello_name(\"Filiz\")\n"
   ]
  },
  {
   "cell_type": "code",
   "execution_count": 23,
   "id": "e5978927",
   "metadata": {},
   "outputs": [
    {
     "name": "stdout",
     "output_type": "stream",
     "text": [
      "Hello, world!\n"
     ]
    }
   ],
   "source": [
    "def hello_world_return():\n",
    "    return 'Hello, world!'\n",
    "\n",
    "print(hello_world_return())"
   ]
  },
  {
   "cell_type": "code",
   "execution_count": 24,
   "id": "288169b9",
   "metadata": {},
   "outputs": [
    {
     "name": "stdout",
     "output_type": "stream",
     "text": [
      "Hello, Filiz!\n"
     ]
    }
   ],
   "source": [
    "def  hello_name_return(name):\n",
    "    return 'Hello, '+name+'!'\n",
    "print(hello_name_return(\"Filiz\"))\n",
    "\n",
    "#It printed the same in \"print\" and \"return\" structure."
   ]
  },
  {
   "cell_type": "code",
   "execution_count": 25,
   "id": "8a7798c0",
   "metadata": {},
   "outputs": [
    {
     "name": "stdout",
     "output_type": "stream",
     "text": [
      "4\n"
     ]
    }
   ],
   "source": [
    "def evaluate(x):\n",
    "    result = 3*(x ** 2)-x+2\n",
    "    print(result)\n",
    "\n",
    "evaluate(1)"
   ]
  },
  {
   "cell_type": "code",
   "execution_count": 28,
   "id": "290f4118",
   "metadata": {},
   "outputs": [
    {
     "name": "stdout",
     "output_type": "stream",
     "text": [
      "100\n"
     ]
    }
   ],
   "source": [
    "def my_max(x,y):\n",
    "    if(x>y):\n",
    "        return x\n",
    "    else:\n",
    "         return y\n",
    "print(my_max(10,100))"
   ]
  },
  {
   "cell_type": "code",
   "execution_count": 30,
   "id": "73110d30",
   "metadata": {},
   "outputs": [
    {
     "name": "stdout",
     "output_type": "stream",
     "text": [
      "100\n"
     ]
    }
   ],
   "source": [
    "def my_max(x,y):\n",
    "    if(x > y):\n",
    "         return x\n",
    "    return y\n",
    "\n",
    "print(my_max(10,100))"
   ]
  },
  {
   "cell_type": "code",
   "execution_count": 64,
   "id": "6375d259",
   "metadata": {},
   "outputs": [
    {
     "name": "stdout",
     "output_type": "stream",
     "text": [
      "True\n"
     ]
    }
   ],
   "source": [
    "import math\n",
    "def is_prime(n):\n",
    "    for i in range(2,int( math.sqrt(n))):\n",
    "        if(n%i == 0):\n",
    "            return False\n",
    "    return True\n",
    " \n",
    "print(is_prime(13))"
   ]
  },
  {
   "cell_type": "code",
   "execution_count": 102,
   "id": "42783bb7",
   "metadata": {},
   "outputs": [
    {
     "name": "stdout",
     "output_type": "stream",
     "text": [
      "True\n"
     ]
    }
   ],
   "source": [
    "def is_prime_2(n):\n",
    "    if(n==2 or n== 3):\n",
    "        return True\n",
    "    if((n-1)%6 !=0 and (n+1)%6 != 0 ):\n",
    "        return False\n",
    " \n",
    "    for i in range(2,int(math.sqrt(n))):\n",
    "        if(n%i == 0):\n",
    "             return False\n",
    "    return True\n",
    " \n",
    "print(is_prime_2(997))"
   ]
  },
  {
   "cell_type": "code",
   "execution_count": 99,
   "id": "d69c4417",
   "metadata": {},
   "outputs": [
    {
     "name": "stdout",
     "output_type": "stream",
     "text": [
      "2 3 7 11 13 17 19 23 29 31 37 41 43 47 49 \n"
     ]
    }
   ],
   "source": [
    "import math\n",
    "def count_prime(n):\n",
    "    print(str(2)+' '+str(3),end = ' ')\n",
    "    for x in range(4,n+1):\n",
    "        if((x-1)%6 !=0 and (x+1)%6 != 0 ):\n",
    "            continue\n",
    "        flag = True\n",
    "        for i in range(2,int(math.sqrt(n))):\n",
    "            if(x%i == 0):\n",
    "                    flag = False\n",
    "        if(flag == True):\n",
    "            print(x,end = ' ')\n",
    "        else:\n",
    "            flag = True\n",
    " \n",
    "count_prime(50)\n",
    "print()\n"
   ]
  },
  {
   "cell_type": "code",
   "execution_count": 70,
   "id": "44a6c95b",
   "metadata": {},
   "outputs": [
    {
     "name": "stdout",
     "output_type": "stream",
     "text": [
      "11\n"
     ]
    }
   ],
   "source": [
    "def count_prime_2(n):\n",
    "    if(n == 1):\n",
    "        return 2\n",
    "    if(n == 2):\n",
    "        return 3\n",
    "    num_found = 2\n",
    "    x = 5\n",
    "    while(True):\n",
    "\n",
    "        if((x-1)%6 !=0 and (x+1)%6 != 0 ):\n",
    "            x = x+1\n",
    "            continue\n",
    " \n",
    "        flag = True\n",
    "        for i in range(2,int(math.sqrt(n))):\n",
    "            if(x%i == 0):\n",
    "                 flag = False\n",
    "        if(flag == True):\n",
    "            num_found = num_found +1\n",
    "            if(num_found == n):\n",
    "                   return x\n",
    "        else:\n",
    "            flag = True\n",
    "        x = x+1\n",
    " \n",
    "print(count_prime_2(5))"
   ]
  },
  {
   "cell_type": "code",
   "execution_count": 67,
   "id": "b2289ebc",
   "metadata": {},
   "outputs": [],
   "source": [
    "def root(f, a, b):\n",
    "    mid_point = (a+b)/2\n",
    "    if(f(mid_point) == 0): \n",
    "        return mid_point\n",
    "    if(f(mid_point) < 0):\n",
    "        root(f,mid_point,b)\n",
    "    if(f(mid_point) > 0):\n",
    "        root(f,a,mid_point)"
   ]
  },
  {
   "cell_type": "code",
   "execution_count": 68,
   "id": "ec2bbdca",
   "metadata": {},
   "outputs": [],
   "source": [
    "def root_2(f, a, b):\n",
    "    mid_point = (a+b)/2\n",
    "    if(f(mid_point) == 0): \n",
    "        return mid_point\n",
    "    if(f(mid_point) < 0):\n",
    "        root(f,mid_point,b)\n",
    "    if(f(mid_point) > 0):\n",
    "        root(f,a,mid_point)"
   ]
  },
  {
   "cell_type": "code",
   "execution_count": 69,
   "id": "c0b3bc24",
   "metadata": {},
   "outputs": [],
   "source": [
    "def check(f,a,b):\n",
    "    if(f(a)*f(b)>0):\n",
    "        print('function evals have same sign')"
   ]
  },
  {
   "cell_type": "code",
   "execution_count": null,
   "id": "01d76bc9",
   "metadata": {},
   "outputs": [],
   "source": []
  }
 ],
 "metadata": {
  "kernelspec": {
   "display_name": "Python 3 (ipykernel)",
   "language": "python",
   "name": "python3"
  },
  "language_info": {
   "codemirror_mode": {
    "name": "ipython",
    "version": 3
   },
   "file_extension": ".py",
   "mimetype": "text/x-python",
   "name": "python",
   "nbconvert_exporter": "python",
   "pygments_lexer": "ipython3",
   "version": "3.10.2"
  }
 },
 "nbformat": 4,
 "nbformat_minor": 5
}
